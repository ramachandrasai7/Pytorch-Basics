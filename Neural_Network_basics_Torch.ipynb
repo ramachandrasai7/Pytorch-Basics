{
  "nbformat": 4,
  "nbformat_minor": 0,
  "metadata": {
    "colab": {
      "provenance": [],
      "gpuType": "T4"
    },
    "kernelspec": {
      "name": "python3",
      "display_name": "Python 3"
    },
    "language_info": {
      "name": "python"
    },
    "accelerator": "GPU",
    "gpuClass": "standard"
  },
  "cells": [
    {
      "cell_type": "code",
      "execution_count": 1,
      "metadata": {
        "id": "OR59MSB95zjV"
      },
      "outputs": [],
      "source": [
        "import torch\n",
        "import torch.nn as nn\n",
        "import torchvision\n",
        "import torchvision.transforms as transforms\n",
        "import matplotlib.pyplot as plt"
      ]
    },
    {
      "cell_type": "code",
      "source": [
        "device=torch.device(\"cuda\" if torch.cuda.is_available() else \"cpu\")"
      ],
      "metadata": {
        "id": "n6nZwo4E6Aab"
      },
      "execution_count": 2,
      "outputs": []
    },
    {
      "cell_type": "code",
      "source": [
        "input_size=784\n",
        "num_class=10\n",
        "hidden_size=100\n",
        "num_epochs=50\n",
        "batch_size=100\n",
        "learning_rate=0.001"
      ],
      "metadata": {
        "id": "c-Jlf1Id6XfI"
      },
      "execution_count": 3,
      "outputs": []
    },
    {
      "cell_type": "code",
      "source": [
        "#loading MNIST DataSet\n",
        "\n",
        "train_dataset=torchvision.datasets.MNIST(root=\"./data\",train=True,transform=transforms.ToTensor(),download=True)\n",
        "test_dataset=torchvision.datasets.MNIST(root=\"./data\",train=False,transform=transforms.ToTensor())"
      ],
      "metadata": {
        "colab": {
          "base_uri": "https://localhost:8080/"
        },
        "id": "2AtpHFas7i2Y",
        "outputId": "4d1fca63-9f9d-4a8e-a488-5f7f1b2d3995"
      },
      "execution_count": 4,
      "outputs": [
        {
          "output_type": "stream",
          "name": "stdout",
          "text": [
            "Downloading http://yann.lecun.com/exdb/mnist/train-images-idx3-ubyte.gz\n",
            "Downloading http://yann.lecun.com/exdb/mnist/train-images-idx3-ubyte.gz to ./data/MNIST/raw/train-images-idx3-ubyte.gz\n"
          ]
        },
        {
          "output_type": "stream",
          "name": "stderr",
          "text": [
            "100%|██████████| 9912422/9912422 [00:00<00:00, 144864619.65it/s]\n"
          ]
        },
        {
          "output_type": "stream",
          "name": "stdout",
          "text": [
            "Extracting ./data/MNIST/raw/train-images-idx3-ubyte.gz to ./data/MNIST/raw\n",
            "\n",
            "Downloading http://yann.lecun.com/exdb/mnist/train-labels-idx1-ubyte.gz\n",
            "Downloading http://yann.lecun.com/exdb/mnist/train-labels-idx1-ubyte.gz to ./data/MNIST/raw/train-labels-idx1-ubyte.gz\n"
          ]
        },
        {
          "output_type": "stream",
          "name": "stderr",
          "text": [
            "100%|██████████| 28881/28881 [00:00<00:00, 97532764.75it/s]\n"
          ]
        },
        {
          "output_type": "stream",
          "name": "stdout",
          "text": [
            "Extracting ./data/MNIST/raw/train-labels-idx1-ubyte.gz to ./data/MNIST/raw\n",
            "\n",
            "Downloading http://yann.lecun.com/exdb/mnist/t10k-images-idx3-ubyte.gz\n",
            "Downloading http://yann.lecun.com/exdb/mnist/t10k-images-idx3-ubyte.gz to ./data/MNIST/raw/t10k-images-idx3-ubyte.gz\n"
          ]
        },
        {
          "output_type": "stream",
          "name": "stderr",
          "text": [
            "100%|██████████| 1648877/1648877 [00:00<00:00, 61241057.63it/s]"
          ]
        },
        {
          "output_type": "stream",
          "name": "stdout",
          "text": [
            "Extracting ./data/MNIST/raw/t10k-images-idx3-ubyte.gz to ./data/MNIST/raw\n"
          ]
        },
        {
          "output_type": "stream",
          "name": "stderr",
          "text": [
            "\n"
          ]
        },
        {
          "output_type": "stream",
          "name": "stdout",
          "text": [
            "\n",
            "Downloading http://yann.lecun.com/exdb/mnist/t10k-labels-idx1-ubyte.gz\n",
            "Downloading http://yann.lecun.com/exdb/mnist/t10k-labels-idx1-ubyte.gz to ./data/MNIST/raw/t10k-labels-idx1-ubyte.gz\n"
          ]
        },
        {
          "output_type": "stream",
          "name": "stderr",
          "text": [
            "100%|██████████| 4542/4542 [00:00<00:00, 943656.07it/s]"
          ]
        },
        {
          "output_type": "stream",
          "name": "stdout",
          "text": [
            "Extracting ./data/MNIST/raw/t10k-labels-idx1-ubyte.gz to ./data/MNIST/raw\n",
            "\n"
          ]
        },
        {
          "output_type": "stream",
          "name": "stderr",
          "text": [
            "\n"
          ]
        }
      ]
    },
    {
      "cell_type": "code",
      "source": [
        "train_loader=torch.utils.data.DataLoader(dataset=train_dataset,batch_size=batch_size,shuffle=True)\n",
        "test_loader=torch.utils.data.DataLoader(dataset=test_dataset,batch_size=batch_size,shuffle=False)"
      ],
      "metadata": {
        "id": "XYxn0zrN_ByZ"
      },
      "execution_count": 5,
      "outputs": []
    },
    {
      "cell_type": "code",
      "source": [
        "train_images = train_dataset.data.float()"
      ],
      "metadata": {
        "id": "a8zn0vyQTODV"
      },
      "execution_count": 18,
      "outputs": []
    },
    {
      "cell_type": "code",
      "source": [
        "plt.imshow(train_images[0])"
      ],
      "metadata": {
        "colab": {
          "base_uri": "https://localhost:8080/",
          "height": 447
        },
        "id": "vtYV6CAxTPSN",
        "outputId": "8fb4e6d6-520e-42ab-cd99-ae01e1930b3a"
      },
      "execution_count": 19,
      "outputs": [
        {
          "output_type": "execute_result",
          "data": {
            "text/plain": [
              "<matplotlib.image.AxesImage at 0x7fe2891effd0>"
            ]
          },
          "metadata": {},
          "execution_count": 19
        },
        {
          "output_type": "display_data",
          "data": {
            "text/plain": [
              "<Figure size 640x480 with 1 Axes>"
            ],
            "image/png": "[encoded data removed]"
          },
          "metadata": {}
        }
      ]
    },
    {
      "cell_type": "code",
      "source": [
        "examples=iter(train_loader)\n",
        "samples, labels=next(examples)"
      ],
      "metadata": {
        "id": "DEmp_8ce_yoJ"
      },
      "execution_count": 6,
      "outputs": []
    },
    {
      "cell_type": "code",
      "source": [
        "samples.shape"
      ],
      "metadata": {
        "colab": {
          "base_uri": "https://localhost:8080/"
        },
        "id": "2RZkltYXAIio",
        "outputId": "3e7c8dea-851a-4374-9269-494b112aab13"
      },
      "execution_count": 7,
      "outputs": [
        {
          "output_type": "execute_result",
          "data": {
            "text/plain": [
              "torch.Size([100, 1, 28, 28])"
            ]
          },
          "metadata": {},
          "execution_count": 7
        }
      ]
    },
    {
      "cell_type": "code",
      "source": [
        "labels.shape"
      ],
      "metadata": {
        "colab": {
          "base_uri": "https://localhost:8080/"
        },
        "id": "2JdQHQ_2Aac4",
        "outputId": "9cde9335-4d84-4650-8230-f5d35129a0f6"
      },
      "execution_count": 8,
      "outputs": [
        {
          "output_type": "execute_result",
          "data": {
            "text/plain": [
              "torch.Size([100])"
            ]
          },
          "metadata": {},
          "execution_count": 8
        }
      ]
    },
    {
      "cell_type": "code",
      "source": [
        "fig, axes = plt.subplots(2, 3)\n",
        "for i, ax in enumerate(axes.flat):\n",
        "  ax.imshow(samples[i][0])\n",
        "plt.show()"
      ],
      "metadata": {
        "colab": {
          "base_uri": "https://localhost:8080/",
          "height": 411
        },
        "id": "B-dG__fzAg6J",
        "outputId": "a9e41467-408f-4d0c-d8cd-a7a3465259e1"
      },
      "execution_count": 9,
      "outputs": [
        {
          "output_type": "display_data",
          "data": {
            "text/plain": [
              "<Figure size 640x480 with 6 Axes>"
            ],
            "image/png": "[encoded data removed]"
          },
          "metadata": {}
        }
      ]
    },
    {
      "cell_type": "code",
      "source": [
        "class NeuralNet(nn.Module):\n",
        "  def __init__(self,input_size,hidden_size,output_size):\n",
        "    super(NeuralNet,self).__init__()\n",
        "    self.l1=nn.Linear(input_size,hidden_size)\n",
        "    self.relu=nn.ReLU()\n",
        "    self.l2=nn.Linear(hidden_size,output_size)\n",
        "\n",
        "  def forward(self,x):\n",
        "    out=self.l1(x)\n",
        "    out=self.relu(out)\n",
        "    out=self.l2(out)\n",
        "    return out\n",
        "\n"
      ],
      "metadata": {
        "id": "VC2dmhjLBTZI"
      },
      "execution_count": 10,
      "outputs": []
    },
    {
      "cell_type": "code",
      "source": [
        "model=NeuralNet(input_size,hidden_size,num_class).to(device)"
      ],
      "metadata": {
        "id": "6J7oRB-QEGpa"
      },
      "execution_count": 32,
      "outputs": []
    },
    {
      "cell_type": "code",
      "source": [
        "criterion=nn.CrossEntropyLoss() #this directly deals with Softmax layer so we don't need to add in the class\n",
        "optimizer=torch.optim.Adam(model.parameters(),lr=learning_rate)"
      ],
      "metadata": {
        "id": "ZmH1U830EP7I"
      },
      "execution_count": 12,
      "outputs": []
    },
    {
      "cell_type": "code",
      "source": [
        "total_steps=len(train_loader)\n",
        "total_steps"
      ],
      "metadata": {
        "colab": {
          "base_uri": "https://localhost:8080/"
        },
        "id": "TUFQog7YEyhQ",
        "outputId": "72ebb16d-faed-4db8-b6e6-49798cb741c3"
      },
      "execution_count": 13,
      "outputs": [
        {
          "output_type": "execute_result",
          "data": {
            "text/plain": [
              "600"
            ]
          },
          "metadata": {},
          "execution_count": 13
        }
      ]
    },
    {
      "cell_type": "code",
      "source": [
        "for epoch in range(num_epochs):\n",
        "  for i,(image,labels ) in enumerate(train_loader):\n",
        "    image=image.reshape(-1,28*28).to(device)\n",
        "    labels=labels.to(device)\n",
        "    outputs=model(image)\n",
        "    loss=criterion(image,labels)\n",
        "    optimizer.zero_grad()\n",
        "    loss.requires_grad = True\n",
        "\n",
        "    loss.backward()\n",
        "    optimizer.step()\n",
        "    if (i+1) % 100 == 0:\n",
        "      print (f'Epoch [{epoch+1}/{num_epochs}], Step [{i+1}/{total_steps}], Loss: {loss.item():.4f}')"
      ],
      "metadata": {
        "colab": {
          "base_uri": "https://localhost:8080/"
        },
        "id": "t1GglAqCFhEA",
        "outputId": "e5e6b634-cb30-4bad-9a31-f1206239c702"
      },
      "execution_count": 34,
      "outputs": [
        {
          "output_type": "stream",
          "name": "stdout",
          "text": [
            "Epoch [1/50], Step [100/600], Loss: 6.8531\n",
            "Epoch [1/50], Step [200/600], Loss: 6.8513\n",
            "Epoch [1/50], Step [300/600], Loss: 6.8494\n",
            "Epoch [1/50], Step [400/600], Loss: 6.8562\n",
            "Epoch [1/50], Step [500/600], Loss: 6.8480\n",
            "Epoch [1/50], Step [600/600], Loss: 6.8606\n",
            "Epoch [2/50], Step [100/600], Loss: 6.8566\n",
            "Epoch [2/50], Step [200/600], Loss: 6.8461\n",
            "Epoch [2/50], Step [300/600], Loss: 6.8473\n",
            "Epoch [2/50], Step [400/600], Loss: 6.8559\n",
            "Epoch [2/50], Step [500/600], Loss: 6.8478\n",
            "Epoch [2/50], Step [600/600], Loss: 6.8455\n",
            "Epoch [3/50], Step [100/600], Loss: 6.8478\n",
            "Epoch [3/50], Step [200/600], Loss: 6.8451\n",
            "Epoch [3/50], Step [300/600], Loss: 6.8526\n",
            "Epoch [3/50], Step [400/600], Loss: 6.8441\n",
            "Epoch [3/50], Step [500/600], Loss: 6.8526\n",
            "Epoch [3/50], Step [600/600], Loss: 6.8523\n",
            "Epoch [4/50], Step [100/600], Loss: 6.8568\n",
            "Epoch [4/50], Step [200/600], Loss: 6.8619\n",
            "Epoch [4/50], Step [300/600], Loss: 6.8518\n",
            "Epoch [4/50], Step [400/600], Loss: 6.8520\n",
            "Epoch [4/50], Step [500/600], Loss: 6.8528\n",
            "Epoch [4/50], Step [600/600], Loss: 6.8472\n",
            "Epoch [5/50], Step [100/600], Loss: 6.8553\n",
            "Epoch [5/50], Step [200/600], Loss: 6.8512\n",
            "Epoch [5/50], Step [300/600], Loss: 6.8476\n",
            "Epoch [5/50], Step [400/600], Loss: 6.8397\n",
            "Epoch [5/50], Step [500/600], Loss: 6.8523\n",
            "Epoch [5/50], Step [600/600], Loss: 6.8518\n",
            "Epoch [6/50], Step [100/600], Loss: 6.8612\n",
            "Epoch [6/50], Step [200/600], Loss: 6.8464\n",
            "Epoch [6/50], Step [300/600], Loss: 6.8546\n",
            "Epoch [6/50], Step [400/600], Loss: 6.8511\n",
            "Epoch [6/50], Step [500/600], Loss: 6.8557\n",
            "Epoch [6/50], Step [600/600], Loss: 6.8471\n",
            "Epoch [7/50], Step [100/600], Loss: 6.8581\n",
            "Epoch [7/50], Step [200/600], Loss: 6.8474\n",
            "Epoch [7/50], Step [300/600], Loss: 6.8595\n",
            "Epoch [7/50], Step [400/600], Loss: 6.8570\n",
            "Epoch [7/50], Step [500/600], Loss: 6.8552\n",
            "Epoch [7/50], Step [600/600], Loss: 6.8551\n",
            "Epoch [8/50], Step [100/600], Loss: 6.8512\n",
            "Epoch [8/50], Step [200/600], Loss: 6.8594\n",
            "Epoch [8/50], Step [300/600], Loss: 6.8577\n",
            "Epoch [8/50], Step [400/600], Loss: 6.8530\n",
            "Epoch [8/50], Step [500/600], Loss: 6.8473\n",
            "Epoch [8/50], Step [600/600], Loss: 6.8389\n",
            "Epoch [9/50], Step [100/600], Loss: 6.8595\n",
            "Epoch [9/50], Step [200/600], Loss: 6.8646\n",
            "Epoch [9/50], Step [300/600], Loss: 6.8521\n",
            "Epoch [9/50], Step [400/600], Loss: 6.8466\n",
            "Epoch [9/50], Step [500/600], Loss: 6.8554\n",
            "Epoch [9/50], Step [600/600], Loss: 6.8635\n",
            "Epoch [10/50], Step [100/600], Loss: 6.8525\n",
            "Epoch [10/50], Step [200/600], Loss: 6.8563\n",
            "Epoch [10/50], Step [300/600], Loss: 6.8487\n",
            "Epoch [10/50], Step [400/600], Loss: 6.8553\n",
            "Epoch [10/50], Step [500/600], Loss: 6.8575\n",
            "Epoch [10/50], Step [600/600], Loss: 6.8566\n",
            "Epoch [11/50], Step [100/600], Loss: 6.8486\n",
            "Epoch [11/50], Step [200/600], Loss: 6.8449\n",
            "Epoch [11/50], Step [300/600], Loss: 6.8457\n",
            "Epoch [11/50], Step [400/600], Loss: 6.8554\n",
            "Epoch [11/50], Step [500/600], Loss: 6.8500\n",
            "Epoch [11/50], Step [600/600], Loss: 6.8514\n",
            "Epoch [12/50], Step [100/600], Loss: 6.8497\n",
            "Epoch [12/50], Step [200/600], Loss: 6.8634\n",
            "Epoch [12/50], Step [300/600], Loss: 6.8600\n",
            "Epoch [12/50], Step [400/600], Loss: 6.8585\n",
            "Epoch [12/50], Step [500/600], Loss: 6.8454\n",
            "Epoch [12/50], Step [600/600], Loss: 6.8596\n",
            "Epoch [13/50], Step [100/600], Loss: 6.8523\n",
            "Epoch [13/50], Step [200/600], Loss: 6.8461\n",
            "Epoch [13/50], Step [300/600], Loss: 6.8471\n",
            "Epoch [13/50], Step [400/600], Loss: 6.8490\n",
            "Epoch [13/50], Step [500/600], Loss: 6.8562\n",
            "Epoch [13/50], Step [600/600], Loss: 6.8561\n",
            "Epoch [14/50], Step [100/600], Loss: 6.8515\n",
            "Epoch [14/50], Step [200/600], Loss: 6.8526\n",
            "Epoch [14/50], Step [300/600], Loss: 6.8485\n",
            "Epoch [14/50], Step [400/600], Loss: 6.8469\n",
            "Epoch [14/50], Step [500/600], Loss: 6.8570\n",
            "Epoch [14/50], Step [600/600], Loss: 6.8484\n",
            "Epoch [15/50], Step [100/600], Loss: 6.8612\n",
            "Epoch [15/50], Step [200/600], Loss: 6.8483\n",
            "Epoch [15/50], Step [300/600], Loss: 6.8599\n",
            "Epoch [15/50], Step [400/600], Loss: 6.8573\n",
            "Epoch [15/50], Step [500/600], Loss: 6.8552\n",
            "Epoch [15/50], Step [600/600], Loss: 6.8483\n",
            "Epoch [16/50], Step [100/600], Loss: 6.8532\n",
            "Epoch [16/50], Step [200/600], Loss: 6.8462\n",
            "Epoch [16/50], Step [300/600], Loss: 6.8587\n",
            "Epoch [16/50], Step [400/600], Loss: 6.8454\n",
            "Epoch [16/50], Step [500/600], Loss: 6.8604\n",
            "Epoch [16/50], Step [600/600], Loss: 6.8484\n",
            "Epoch [17/50], Step [100/600], Loss: 6.8533\n",
            "Epoch [17/50], Step [200/600], Loss: 6.8466\n",
            "Epoch [17/50], Step [300/600], Loss: 6.8502\n",
            "Epoch [17/50], Step [400/600], Loss: 6.8424\n",
            "Epoch [17/50], Step [500/600], Loss: 6.8484\n",
            "Epoch [17/50], Step [600/600], Loss: 6.8497\n",
            "Epoch [18/50], Step [100/600], Loss: 6.8547\n",
            "Epoch [18/50], Step [200/600], Loss: 6.8482\n",
            "Epoch [18/50], Step [300/600], Loss: 6.8479\n",
            "Epoch [18/50], Step [400/600], Loss: 6.8512\n",
            "Epoch [18/50], Step [500/600], Loss: 6.8538\n",
            "Epoch [18/50], Step [600/600], Loss: 6.8601\n",
            "Epoch [19/50], Step [100/600], Loss: 6.8530\n",
            "Epoch [19/50], Step [200/600], Loss: 6.8465\n",
            "Epoch [19/50], Step [300/600], Loss: 6.8461\n",
            "Epoch [19/50], Step [400/600], Loss: 6.8478\n",
            "Epoch [19/50], Step [500/600], Loss: 6.8479\n",
            "Epoch [19/50], Step [600/600], Loss: 6.8551\n",
            "Epoch [20/50], Step [100/600], Loss: 6.8583\n",
            "Epoch [20/50], Step [200/600], Loss: 6.8638\n",
            "Epoch [20/50], Step [300/600], Loss: 6.8528\n",
            "Epoch [20/50], Step [400/600], Loss: 6.8570\n",
            "Epoch [20/50], Step [500/600], Loss: 6.8515\n",
            "Epoch [20/50], Step [600/600], Loss: 6.8536\n",
            "Epoch [21/50], Step [100/600], Loss: 6.8460\n",
            "Epoch [21/50], Step [200/600], Loss: 6.8530\n",
            "Epoch [21/50], Step [300/600], Loss: 6.8470\n",
            "Epoch [21/50], Step [400/600], Loss: 6.8409\n",
            "Epoch [21/50], Step [500/600], Loss: 6.8535\n",
            "Epoch [21/50], Step [600/600], Loss: 6.8437\n",
            "Epoch [22/50], Step [100/600], Loss: 6.8539\n",
            "Epoch [22/50], Step [200/600], Loss: 6.8513\n",
            "Epoch [22/50], Step [300/600], Loss: 6.8514\n",
            "Epoch [22/50], Step [400/600], Loss: 6.8524\n",
            "Epoch [22/50], Step [500/600], Loss: 6.8572\n",
            "Epoch [22/50], Step [600/600], Loss: 6.8513\n",
            "Epoch [23/50], Step [100/600], Loss: 6.8530\n",
            "Epoch [23/50], Step [200/600], Loss: 6.8513\n",
            "Epoch [23/50], Step [300/600], Loss: 6.8549\n",
            "Epoch [23/50], Step [400/600], Loss: 6.8602\n",
            "Epoch [23/50], Step [500/600], Loss: 6.8575\n",
            "Epoch [23/50], Step [600/600], Loss: 6.8504\n",
            "Epoch [24/50], Step [100/600], Loss: 6.8444\n",
            "Epoch [24/50], Step [200/600], Loss: 6.8608\n",
            "Epoch [24/50], Step [300/600], Loss: 6.8441\n",
            "Epoch [24/50], Step [400/600], Loss: 6.8555\n",
            "Epoch [24/50], Step [500/600], Loss: 6.8451\n",
            "Epoch [24/50], Step [600/600], Loss: 6.8504\n",
            "Epoch [25/50], Step [100/600], Loss: 6.8580\n",
            "Epoch [25/50], Step [200/600], Loss: 6.8519\n",
            "Epoch [25/50], Step [300/600], Loss: 6.8561\n",
            "Epoch [25/50], Step [400/600], Loss: 6.8519\n",
            "Epoch [25/50], Step [500/600], Loss: 6.8500\n",
            "Epoch [25/50], Step [600/600], Loss: 6.8567\n",
            "Epoch [26/50], Step [100/600], Loss: 6.8457\n",
            "Epoch [26/50], Step [200/600], Loss: 6.8518\n",
            "Epoch [26/50], Step [300/600], Loss: 6.8556\n",
            "Epoch [26/50], Step [400/600], Loss: 6.8565\n",
            "Epoch [26/50], Step [500/600], Loss: 6.8515\n",
            "Epoch [26/50], Step [600/600], Loss: 6.8508\n",
            "Epoch [27/50], Step [100/600], Loss: 6.8525\n",
            "Epoch [27/50], Step [200/600], Loss: 6.8420\n",
            "Epoch [27/50], Step [300/600], Loss: 6.8618\n",
            "Epoch [27/50], Step [400/600], Loss: 6.8475\n",
            "Epoch [27/50], Step [500/600], Loss: 6.8546\n",
            "Epoch [27/50], Step [600/600], Loss: 6.8493\n",
            "Epoch [28/50], Step [100/600], Loss: 6.8559\n",
            "Epoch [28/50], Step [200/600], Loss: 6.8524\n",
            "Epoch [28/50], Step [300/600], Loss: 6.8502\n",
            "Epoch [28/50], Step [400/600], Loss: 6.8414\n",
            "Epoch [28/50], Step [500/600], Loss: 6.8497\n",
            "Epoch [28/50], Step [600/600], Loss: 6.8571\n",
            "Epoch [29/50], Step [100/600], Loss: 6.8581\n",
            "Epoch [29/50], Step [200/600], Loss: 6.8591\n",
            "Epoch [29/50], Step [300/600], Loss: 6.8453\n",
            "Epoch [29/50], Step [400/600], Loss: 6.8566\n",
            "Epoch [29/50], Step [500/600], Loss: 6.8592\n",
            "Epoch [29/50], Step [600/600], Loss: 6.8472\n",
            "Epoch [30/50], Step [100/600], Loss: 6.8558\n",
            "Epoch [30/50], Step [200/600], Loss: 6.8447\n",
            "Epoch [30/50], Step [300/600], Loss: 6.8607\n",
            "Epoch [30/50], Step [400/600], Loss: 6.8526\n",
            "Epoch [30/50], Step [500/600], Loss: 6.8619\n",
            "Epoch [30/50], Step [600/600], Loss: 6.8482\n",
            "Epoch [31/50], Step [100/600], Loss: 6.8441\n",
            "Epoch [31/50], Step [200/600], Loss: 6.8479\n",
            "Epoch [31/50], Step [300/600], Loss: 6.8583\n",
            "Epoch [31/50], Step [400/600], Loss: 6.8455\n",
            "Epoch [31/50], Step [500/600], Loss: 6.8493\n",
            "Epoch [31/50], Step [600/600], Loss: 6.8539\n",
            "Epoch [32/50], Step [100/600], Loss: 6.8640\n",
            "Epoch [32/50], Step [200/600], Loss: 6.8445\n",
            "Epoch [32/50], Step [300/600], Loss: 6.8384\n",
            "Epoch [32/50], Step [400/600], Loss: 6.8567\n",
            "Epoch [32/50], Step [500/600], Loss: 6.8587\n",
            "Epoch [32/50], Step [600/600], Loss: 6.8573\n",
            "Epoch [33/50], Step [100/600], Loss: 6.8498\n",
            "Epoch [33/50], Step [200/600], Loss: 6.8515\n",
            "Epoch [33/50], Step [300/600], Loss: 6.8496\n",
            "Epoch [33/50], Step [400/600], Loss: 6.8498\n",
            "Epoch [33/50], Step [500/600], Loss: 6.8568\n",
            "Epoch [33/50], Step [600/600], Loss: 6.8481\n",
            "Epoch [34/50], Step [100/600], Loss: 6.8610\n",
            "Epoch [34/50], Step [200/600], Loss: 6.8542\n",
            "Epoch [34/50], Step [300/600], Loss: 6.8614\n",
            "Epoch [34/50], Step [400/600], Loss: 6.8388\n",
            "Epoch [34/50], Step [500/600], Loss: 6.8614\n",
            "Epoch [34/50], Step [600/600], Loss: 6.8555\n",
            "Epoch [35/50], Step [100/600], Loss: 6.8467\n",
            "Epoch [35/50], Step [200/600], Loss: 6.8551\n",
            "Epoch [35/50], Step [300/600], Loss: 6.8499\n",
            "Epoch [35/50], Step [400/600], Loss: 6.8540\n",
            "Epoch [35/50], Step [500/600], Loss: 6.8522\n",
            "Epoch [35/50], Step [600/600], Loss: 6.8550\n",
            "Epoch [36/50], Step [100/600], Loss: 6.8500\n",
            "Epoch [36/50], Step [200/600], Loss: 6.8529\n",
            "Epoch [36/50], Step [300/600], Loss: 6.8569\n",
            "Epoch [36/50], Step [400/600], Loss: 6.8573\n",
            "Epoch [36/50], Step [500/600], Loss: 6.8456\n",
            "Epoch [36/50], Step [600/600], Loss: 6.8491\n",
            "Epoch [37/50], Step [100/600], Loss: 6.8564\n",
            "Epoch [37/50], Step [200/600], Loss: 6.8509\n",
            "Epoch [37/50], Step [300/600], Loss: 6.8584\n",
            "Epoch [37/50], Step [400/600], Loss: 6.8501\n",
            "Epoch [37/50], Step [500/600], Loss: 6.8453\n",
            "Epoch [37/50], Step [600/600], Loss: 6.8487\n",
            "Epoch [38/50], Step [100/600], Loss: 6.8552\n",
            "Epoch [38/50], Step [200/600], Loss: 6.8570\n",
            "Epoch [38/50], Step [300/600], Loss: 6.8561\n",
            "Epoch [38/50], Step [400/600], Loss: 6.8481\n",
            "Epoch [38/50], Step [500/600], Loss: 6.8580\n",
            "Epoch [38/50], Step [600/600], Loss: 6.8454\n",
            "Epoch [39/50], Step [100/600], Loss: 6.8515\n",
            "Epoch [39/50], Step [200/600], Loss: 6.8459\n",
            "Epoch [39/50], Step [300/600], Loss: 6.8447\n",
            "Epoch [39/50], Step [400/600], Loss: 6.8498\n",
            "Epoch [39/50], Step [500/600], Loss: 6.8631\n",
            "Epoch [39/50], Step [600/600], Loss: 6.8681\n",
            "Epoch [40/50], Step [100/600], Loss: 6.8464\n",
            "Epoch [40/50], Step [200/600], Loss: 6.8535\n",
            "Epoch [40/50], Step [300/600], Loss: 6.8493\n",
            "Epoch [40/50], Step [400/600], Loss: 6.8475\n",
            "Epoch [40/50], Step [500/600], Loss: 6.8524\n",
            "Epoch [40/50], Step [600/600], Loss: 6.8495\n",
            "Epoch [41/50], Step [100/600], Loss: 6.8559\n",
            "Epoch [41/50], Step [200/600], Loss: 6.8604\n",
            "Epoch [41/50], Step [300/600], Loss: 6.8553\n",
            "Epoch [41/50], Step [400/600], Loss: 6.8572\n",
            "Epoch [41/50], Step [500/600], Loss: 6.8499\n",
            "Epoch [41/50], Step [600/600], Loss: 6.8468\n",
            "Epoch [42/50], Step [100/600], Loss: 6.8464\n",
            "Epoch [42/50], Step [200/600], Loss: 6.8621\n",
            "Epoch [42/50], Step [300/600], Loss: 6.8563\n",
            "Epoch [42/50], Step [400/600], Loss: 6.8539\n",
            "Epoch [42/50], Step [500/600], Loss: 6.8505\n",
            "Epoch [42/50], Step [600/600], Loss: 6.8514\n",
            "Epoch [43/50], Step [100/600], Loss: 6.8592\n",
            "Epoch [43/50], Step [200/600], Loss: 6.8610\n",
            "Epoch [43/50], Step [300/600], Loss: 6.8470\n",
            "Epoch [43/50], Step [400/600], Loss: 6.8455\n",
            "Epoch [43/50], Step [500/600], Loss: 6.8430\n",
            "Epoch [43/50], Step [600/600], Loss: 6.8471\n",
            "Epoch [44/50], Step [100/600], Loss: 6.8466\n",
            "Epoch [44/50], Step [200/600], Loss: 6.8502\n",
            "Epoch [44/50], Step [300/600], Loss: 6.8507\n",
            "Epoch [44/50], Step [400/600], Loss: 6.8527\n",
            "Epoch [44/50], Step [500/600], Loss: 6.8563\n",
            "Epoch [44/50], Step [600/600], Loss: 6.8587\n",
            "Epoch [45/50], Step [100/600], Loss: 6.8565\n",
            "Epoch [45/50], Step [200/600], Loss: 6.8489\n",
            "Epoch [45/50], Step [300/600], Loss: 6.8519\n",
            "Epoch [45/50], Step [400/600], Loss: 6.8489\n",
            "Epoch [45/50], Step [500/600], Loss: 6.8484\n",
            "Epoch [45/50], Step [600/600], Loss: 6.8568\n",
            "Epoch [46/50], Step [100/600], Loss: 6.8597\n",
            "Epoch [46/50], Step [200/600], Loss: 6.8552\n",
            "Epoch [46/50], Step [300/600], Loss: 6.8584\n",
            "Epoch [46/50], Step [400/600], Loss: 6.8650\n",
            "Epoch [46/50], Step [500/600], Loss: 6.8504\n",
            "Epoch [46/50], Step [600/600], Loss: 6.8427\n",
            "Epoch [47/50], Step [100/600], Loss: 6.8514\n",
            "Epoch [47/50], Step [200/600], Loss: 6.8558\n",
            "Epoch [47/50], Step [300/600], Loss: 6.8436\n",
            "Epoch [47/50], Step [400/600], Loss: 6.8535\n",
            "Epoch [47/50], Step [500/600], Loss: 6.8446\n",
            "Epoch [47/50], Step [600/600], Loss: 6.8442\n",
            "Epoch [48/50], Step [100/600], Loss: 6.8458\n",
            "Epoch [48/50], Step [200/600], Loss: 6.8584\n",
            "Epoch [48/50], Step [300/600], Loss: 6.8588\n",
            "Epoch [48/50], Step [400/600], Loss: 6.8544\n",
            "Epoch [48/50], Step [500/600], Loss: 6.8510\n",
            "Epoch [48/50], Step [600/600], Loss: 6.8513\n",
            "Epoch [49/50], Step [100/600], Loss: 6.8453\n",
            "Epoch [49/50], Step [200/600], Loss: 6.8443\n",
            "Epoch [49/50], Step [300/600], Loss: 6.8446\n",
            "Epoch [49/50], Step [400/600], Loss: 6.8601\n",
            "Epoch [49/50], Step [500/600], Loss: 6.8445\n",
            "Epoch [49/50], Step [600/600], Loss: 6.8451\n",
            "Epoch [50/50], Step [100/600], Loss: 6.8567\n",
            "Epoch [50/50], Step [200/600], Loss: 6.8439\n",
            "Epoch [50/50], Step [300/600], Loss: 6.8482\n",
            "Epoch [50/50], Step [400/600], Loss: 6.8558\n",
            "Epoch [50/50], Step [500/600], Loss: 6.8589\n",
            "Epoch [50/50], Step [600/600], Loss: 6.8627\n"
          ]
        }
      ]
    },
    {
      "cell_type": "code",
      "source": [
        "with torch.no_grad():\n",
        "    n_correct = 0\n",
        "    n_samples = 0\n",
        "    for images, labels in test_loader:\n",
        "        images = images.reshape(-1, 28*28).to(device)\n",
        "        labels = labels.to(device)\n",
        "        outputs = model(images)\n",
        "        # max returns (value ,index)\n",
        "        _, predicted = torch.max(outputs.data, 1)\n",
        "        n_samples += labels.size(0)\n",
        "        n_correct += (predicted == labels).sum().item()\n",
        "\n",
        "    acc = 100.0 * n_correct / n_samples\n",
        "    print(f'Accuracy of the network on the 10000 test images: {acc} %')"
      ],
      "metadata": {
        "colab": {
          "base_uri": "https://localhost:8080/"
        },
        "id": "6oroSRdGG-oa",
        "outputId": "fb52037c-4d47-4d5c-c024-0ed7df21ed17"
      },
      "execution_count": 35,
      "outputs": [
        {
          "output_type": "stream",
          "name": "stdout",
          "text": [
            "Accuracy of the network on the 10000 test images: 10.75 %\n"
          ]
        }
      ]
    },
    {
      "cell_type": "code",
      "source": [
        "  "
      ],
      "metadata": {
        "id": "XCDJMt6RR68s"
      },
      "execution_count": 29,
      "outputs": []
    },
    {
      "cell_type": "code",
      "source": [],
      "metadata": {
        "id": "PrkaoJAfSEc0"
      },
      "execution_count": 29,
      "outputs": []
    },
    {
      "cell_type": "code",
      "source": [],
      "metadata": {
        "id": "K6kXTjfTSsmS"
      },
      "execution_count": 29,
      "outputs": []
    },
    {
      "cell_type": "code",
      "source": [],
      "metadata": {
        "id": "nH_sv3H1VJ07"
      },
      "execution_count": 29,
      "outputs": []
    },
    {
      "cell_type": "code",
      "source": [
        "\n"
      ],
      "metadata": {
        "id": "hrUky7wBWe3I"
      },
      "execution_count": null,
      "outputs": []
    }
  ]
}