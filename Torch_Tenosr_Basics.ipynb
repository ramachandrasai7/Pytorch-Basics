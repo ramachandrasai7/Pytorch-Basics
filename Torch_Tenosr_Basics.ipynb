{
  "nbformat": 4,
  "nbformat_minor": 0,
  "metadata": {
    "colab": {
      "provenance": [],
      "gpuType": "T4",
      "authorship_tag": "ABX9TyNryXkgPwdpdumZPbqewDzj",
      "include_colab_link": true
    },
    "kernelspec": {
      "name": "python3",
      "display_name": "Python 3"
    },
    "language_info": {
      "name": "python"
    },
    "accelerator": "GPU",
    "gpuClass": "standard"
  },
  "cells": [
    {
      "cell_type": "markdown",
      "metadata": {
        "id": "view-in-github",
        "colab_type": "text"
      },
      "source": [
        "<a href=\"https://colab.research.google.com/github/ramachandrasai7/Pytorch-Basics/blob/main/Torch_Tenosr_Basics.ipynb\" target=\"_parent\"><img src=\"https://colab.research.google.com/assets/colab-badge.svg\" alt=\"Open In Colab\"/></a>"
      ]
    },
    {
      "cell_type": "code",
      "execution_count": 2,
      "metadata": {
        "id": "7FLcuj-BnApr"
      },
      "outputs": [],
      "source": [
        "import torch\n",
        "import numpy as np"
      ]
    },
    {
      "cell_type": "code",
      "source": [
        "torch.ones(2,3)"
      ],
      "metadata": {
        "colab": {
          "base_uri": "https://localhost:8080/"
        },
        "id": "b_9SkddCniFE",
        "outputId": "9119dcfa-fa24-4c4a-f909-52c11a9cbdef"
      },
      "execution_count": 3,
      "outputs": [
        {
          "output_type": "execute_result",
          "data": {
            "text/plain": [
              "tensor([[1., 1., 1.],\n",
              "        [1., 1., 1.]])"
            ]
          },
          "metadata": {},
          "execution_count": 3
        }
      ]
    },
    {
      "cell_type": "code",
      "source": [
        "torch.zeros(2,3)"
      ],
      "metadata": {
        "colab": {
          "base_uri": "https://localhost:8080/"
        },
        "id": "8dFUj4Rsno17",
        "outputId": "81517d19-4c61-4a8d-e314-6d731dc82bc3"
      },
      "execution_count": 4,
      "outputs": [
        {
          "output_type": "execute_result",
          "data": {
            "text/plain": [
              "tensor([[0., 0., 0.],\n",
              "        [0., 0., 0.]])"
            ]
          },
          "metadata": {},
          "execution_count": 4
        }
      ]
    },
    {
      "cell_type": "code",
      "source": [
        "X=torch.rand(2,3)"
      ],
      "metadata": {
        "id": "0APmhrYhn6Nh"
      },
      "execution_count": 5,
      "outputs": []
    },
    {
      "cell_type": "code",
      "source": [
        "X.dtype"
      ],
      "metadata": {
        "colab": {
          "base_uri": "https://localhost:8080/"
        },
        "id": "GrIvZvcsn-ED",
        "outputId": "09b30790-187c-4145-9236-68078441dbe2"
      },
      "execution_count": 6,
      "outputs": [
        {
          "output_type": "execute_result",
          "data": {
            "text/plain": [
              "torch.float32"
            ]
          },
          "metadata": {},
          "execution_count": 6
        }
      ]
    },
    {
      "cell_type": "code",
      "source": [
        "X=torch.ones(2,3,dtype=torch.int )"
      ],
      "metadata": {
        "id": "ZZBT3Hcvn-xp"
      },
      "execution_count": 7,
      "outputs": []
    },
    {
      "cell_type": "code",
      "source": [
        "X.dtype"
      ],
      "metadata": {
        "colab": {
          "base_uri": "https://localhost:8080/"
        },
        "id": "BQltlzQ_oEca",
        "outputId": "a4a5c651-cb8a-461d-bbeb-d266a3e5ef12"
      },
      "execution_count": 8,
      "outputs": [
        {
          "output_type": "execute_result",
          "data": {
            "text/plain": [
              "torch.int32"
            ]
          },
          "metadata": {},
          "execution_count": 8
        }
      ]
    },
    {
      "cell_type": "code",
      "source": [
        "X.size()"
      ],
      "metadata": {
        "colab": {
          "base_uri": "https://localhost:8080/"
        },
        "id": "SUP23r5SoO8K",
        "outputId": "02640a01-01e5-4173-a129-e1a5ed557d2d"
      },
      "execution_count": 9,
      "outputs": [
        {
          "output_type": "execute_result",
          "data": {
            "text/plain": [
              "torch.Size([2, 3])"
            ]
          },
          "metadata": {},
          "execution_count": 9
        }
      ]
    },
    {
      "cell_type": "code",
      "source": [
        "x=torch.rand(2,3)\n",
        "y=torch.rand(2,3)\n",
        "y.add_(x) # Every function with trailing _ will do an inplace operation"
      ],
      "metadata": {
        "colab": {
          "base_uri": "https://localhost:8080/"
        },
        "id": "y81R-s2koVxF",
        "outputId": "b316e109-21ac-4477-f326-3fdf7e520f6b"
      },
      "execution_count": 10,
      "outputs": [
        {
          "output_type": "execute_result",
          "data": {
            "text/plain": [
              "tensor([[1.7066, 1.3348, 1.5408],\n",
              "        [0.8180, 1.3075, 0.8103]])"
            ]
          },
          "metadata": {},
          "execution_count": 10
        }
      ]
    },
    {
      "cell_type": "code",
      "source": [
        "X=torch.rand(5,3)\n",
        "print(X)\n",
        "print(X[:,0]) # All rows with only 0th column"
      ],
      "metadata": {
        "colab": {
          "base_uri": "https://localhost:8080/"
        },
        "id": "PX8f5G63o36r",
        "outputId": "06939ba7-4803-4659-b6ac-ad00e257b287"
      },
      "execution_count": 11,
      "outputs": [
        {
          "output_type": "stream",
          "name": "stdout",
          "text": [
            "tensor([[0.5694, 0.7081, 0.8916],\n",
            "        [0.1053, 0.5261, 0.4058],\n",
            "        [0.4645, 0.6363, 0.8698],\n",
            "        [0.8847, 0.9287, 0.1346],\n",
            "        [0.8073, 0.1552, 0.1599]])\n",
            "tensor([0.5694, 0.1053, 0.4645, 0.8847, 0.8073])\n"
          ]
        }
      ]
    },
    {
      "cell_type": "code",
      "source": [
        "print(X[1,1]) #shows tensor\n",
        "X[1,1].item() # .item can be called when only item is there , gives the value  in the tensor"
      ],
      "metadata": {
        "colab": {
          "base_uri": "https://localhost:8080/"
        },
        "id": "51TIJTcTphmT",
        "outputId": "8381bb7d-70a6-4ecb-986f-ec4af22f4ece"
      },
      "execution_count": 12,
      "outputs": [
        {
          "output_type": "stream",
          "name": "stdout",
          "text": [
            "tensor(0.5261)\n"
          ]
        },
        {
          "output_type": "execute_result",
          "data": {
            "text/plain": [
              "0.526094913482666"
            ]
          },
          "metadata": {},
          "execution_count": 12
        }
      ]
    },
    {
      "cell_type": "code",
      "source": [
        "# Reshaping\n",
        "\n",
        "Y=torch.rand(4,4)\n",
        "X=Y.view(-1,2) # if -1 is given torch takes automatically the values from columns, 16/2=8, 8 rows , 2 columns\n",
        "print(Y)\n",
        "print(X)"
      ],
      "metadata": {
        "colab": {
          "base_uri": "https://localhost:8080/"
        },
        "id": "re23FclUqCOh",
        "outputId": "a61f671f-9cc7-4da7-d627-a9eec3f447d2"
      },
      "execution_count": 13,
      "outputs": [
        {
          "output_type": "stream",
          "name": "stdout",
          "text": [
            "tensor([[0.2877, 0.8559, 0.4607, 0.1852],\n",
            "        [0.8094, 0.0793, 0.4740, 0.5276],\n",
            "        [0.8667, 0.9032, 0.5707, 0.0766],\n",
            "        [0.8941, 0.9344, 0.0297, 0.0791]])\n",
            "tensor([[0.2877, 0.8559],\n",
            "        [0.4607, 0.1852],\n",
            "        [0.8094, 0.0793],\n",
            "        [0.4740, 0.5276],\n",
            "        [0.8667, 0.9032],\n",
            "        [0.5707, 0.0766],\n",
            "        [0.8941, 0.9344],\n",
            "        [0.0297, 0.0791]])\n"
          ]
        }
      ]
    },
    {
      "cell_type": "code",
      "source": [
        "X=X.numpy() #convering torch tesnor into a numpy array, An important note is, if we are using CPU, then modifiying tensor would modify the np array too, even if they are initilaized to different variables"
      ],
      "metadata": {
        "id": "FL70UsUKquvX"
      },
      "execution_count": 14,
      "outputs": []
    },
    {
      "cell_type": "code",
      "source": [
        "type(X)"
      ],
      "metadata": {
        "colab": {
          "base_uri": "https://localhost:8080/"
        },
        "id": "OIr1lbzIrVKX",
        "outputId": "36300219-3f08-4a6e-d256-6fa47ad75b66"
      },
      "execution_count": 15,
      "outputs": [
        {
          "output_type": "execute_result",
          "data": {
            "text/plain": [
              "numpy.ndarray"
            ]
          },
          "metadata": {},
          "execution_count": 15
        }
      ]
    },
    {
      "cell_type": "code",
      "source": [
        "X=torch.from_numpy(X) # back from numpy to tensor, Same CPU used, both change"
      ],
      "metadata": {
        "id": "PlNphDrdraHH"
      },
      "execution_count": 16,
      "outputs": []
    },
    {
      "cell_type": "code",
      "source": [
        "type(X)"
      ],
      "metadata": {
        "colab": {
          "base_uri": "https://localhost:8080/"
        },
        "id": "tlCk8p6wsXFB",
        "outputId": "ab5651d3-03e2-471d-82ef-b9ba84907500"
      },
      "execution_count": 17,
      "outputs": [
        {
          "output_type": "execute_result",
          "data": {
            "text/plain": [
              "torch.Tensor"
            ]
          },
          "metadata": {},
          "execution_count": 17
        }
      ]
    },
    {
      "cell_type": "code",
      "source": [
        "if torch.cuda.is_available():\n",
        "  device=torch.device(\"cuda\")\n",
        "  x=torch.ones(5,device=device)\n",
        "  y=torch.ones(5)\n",
        "  y=y.to(device) #moves the tensor to the device\n",
        "  z=x+y #both should be one CPU or Gpu to make the operation happen\n",
        "  z=z.to(\"cpu\") #converts a tensor to CPU \n",
        "  z=z.numpy() # can convert a tensor to numpy array only if the device is cpu\n",
        "\n",
        "  \n",
        "  \n",
        "\n"
      ],
      "metadata": {
        "id": "-m7voY--sdPn"
      },
      "execution_count": 24,
      "outputs": []
    },
    {
      "cell_type": "code",
      "source": [
        "z"
      ],
      "metadata": {
        "colab": {
          "base_uri": "https://localhost:8080/"
        },
        "id": "aE0_-9E6tXbl",
        "outputId": "063d3bb1-bf31-4857-e882-cacd8164e7cb"
      },
      "execution_count": 26,
      "outputs": [
        {
          "output_type": "execute_result",
          "data": {
            "text/plain": [
              "array([2., 2., 2., 2., 2.], dtype=float32)"
            ]
          },
          "metadata": {},
          "execution_count": 26
        }
      ]
    },
    {
      "cell_type": "code",
      "source": [
        "X=torch.ones(5,requires_grad=True) # tells that the tensor should be modified during some optimization"
      ],
      "metadata": {
        "id": "xtxQdsHEtgS4"
      },
      "execution_count": 29,
      "outputs": []
    },
    {
      "cell_type": "code",
      "source": [
        "X"
      ],
      "metadata": {
        "colab": {
          "base_uri": "https://localhost:8080/"
        },
        "id": "RLtaS8SrvJBQ",
        "outputId": "c46447be-8d83-467f-f692-bc227a092012"
      },
      "execution_count": 30,
      "outputs": [
        {
          "output_type": "execute_result",
          "data": {
            "text/plain": [
              "tensor([1., 1., 1., 1., 1.], requires_grad=True)"
            ]
          },
          "metadata": {},
          "execution_count": 30
        }
      ]
    },
    {
      "cell_type": "code",
      "source": [],
      "metadata": {
        "id": "bHPjv_DqvJxO"
      },
      "execution_count": null,
      "outputs": []
    }
  ]
}